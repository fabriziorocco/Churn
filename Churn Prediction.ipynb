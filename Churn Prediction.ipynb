{
  "nbformat": 4,
  "nbformat_minor": 0,
  "metadata": {
    "colab": {
      "name": "AI Assignment.ipynb",
      "provenance": [],
      "collapsed_sections": []
    },
    "kernelspec": {
      "name": "python3",
      "display_name": "Python 3"
    },
    "language_info": {
      "name": "python"
    }
  },
  "cells": [
    {
      "cell_type": "code",
      "metadata": {
        "colab": {
          "base_uri": "https://localhost:8080/"
        },
        "id": "ktr2PtigAoAZ",
        "outputId": "ea8cbd74-3b9b-4b1a-9aed-624704ab30e1"
      },
      "source": [
        "from google.colab import drive\n",
        "drive.mount('/content/drive')\n",
        "#/content/drive/MyDrive/AI Assignment/dataset.csv"
      ],
      "execution_count": 1,
      "outputs": [
        {
          "output_type": "stream",
          "name": "stdout",
          "text": [
            "Mounted at /content/drive\n"
          ]
        }
      ]
    },
    {
      "cell_type": "code",
      "metadata": {
        "colab": {
          "base_uri": "https://localhost:8080/",
          "height": 17
        },
        "id": "nxNCM-q6BOg7",
        "outputId": "c06cec84-ad7c-4048-c579-9b2fd31dd8ad"
      },
      "source": [
        "%matplotlib inline \n",
        "import matplotlib as mlp\n",
        "import matplotlib.pyplot as plt\n",
        "import numpy as np\n",
        "import pandas as pd\n",
        "import sklearn\n",
        "import seaborn as sns\n",
        "from sklearn.preprocessing import MinMaxScaler\n",
        "from sklearn import preprocessing\n",
        "\n",
        "#plot libaries\n",
        "import plotly\n",
        "import plotly.graph_objs as go\n",
        "import plotly.figure_factory as ff\n",
        "from plotly.offline import init_notebook_mode\n",
        "init_notebook_mode(connected=True) # to show plots in notebook\n",
        "from sklearn.model_selection import train_test_split\n",
        "\n",
        "import xgboost as xgb\n",
        "from sklearn.ensemble import RandomForestClassifier, GradientBoostingClassifier\n",
        "from sklearn.tree import DecisionTreeClassifier\n",
        "\n",
        "from sklearn.metrics import accuracy_score,roc_auc_score"
      ],
      "execution_count": 2,
      "outputs": [
        {
          "output_type": "display_data",
          "data": {
            "text/html": [
              "        <script type=\"text/javascript\">\n",
              "        window.PlotlyConfig = {MathJaxConfig: 'local'};\n",
              "        if (window.MathJax) {MathJax.Hub.Config({SVG: {font: \"STIX-Web\"}});}\n",
              "        if (typeof require !== 'undefined') {\n",
              "        require.undef(\"plotly\");\n",
              "        requirejs.config({\n",
              "            paths: {\n",
              "                'plotly': ['https://cdn.plot.ly/plotly-latest.min']\n",
              "            }\n",
              "        });\n",
              "        require(['plotly'], function(Plotly) {\n",
              "            window._Plotly = Plotly;\n",
              "        });\n",
              "        }\n",
              "        </script>\n",
              "        "
            ]
          },
          "metadata": {}
        }
      ]
    },
    {
      "cell_type": "code",
      "metadata": {
        "id": "MqxJMfp4BQai",
        "colab": {
          "base_uri": "https://localhost:8080/",
          "height": 178
        },
        "outputId": "6ab32bfd-5f6a-4bcb-ad81-12db93189b2f"
      },
      "source": [
        "data = pd.read_csv('/content/drive/MyDrive/AI Assignment/dataset.csv')\n",
        "data.groupby('Churn').count()"
      ],
      "execution_count": 3,
      "outputs": [
        {
          "output_type": "execute_result",
          "data": {
            "text/html": [
              "<div>\n",
              "<style scoped>\n",
              "    .dataframe tbody tr th:only-of-type {\n",
              "        vertical-align: middle;\n",
              "    }\n",
              "\n",
              "    .dataframe tbody tr th {\n",
              "        vertical-align: top;\n",
              "    }\n",
              "\n",
              "    .dataframe thead th {\n",
              "        text-align: right;\n",
              "    }\n",
              "</style>\n",
              "<table border=\"1\" class=\"dataframe\">\n",
              "  <thead>\n",
              "    <tr style=\"text-align: right;\">\n",
              "      <th></th>\n",
              "      <th>State</th>\n",
              "      <th>Account length</th>\n",
              "      <th>Area code</th>\n",
              "      <th>International plan</th>\n",
              "      <th>Voice mail plan</th>\n",
              "      <th>Number vmail messages</th>\n",
              "      <th>Total day minutes</th>\n",
              "      <th>Total day calls</th>\n",
              "      <th>Total day charge</th>\n",
              "      <th>Total eve minutes</th>\n",
              "      <th>Total eve calls</th>\n",
              "      <th>Total eve charge</th>\n",
              "      <th>Total night minutes</th>\n",
              "      <th>Total night calls</th>\n",
              "      <th>Total night charge</th>\n",
              "      <th>Total intl minutes</th>\n",
              "      <th>Total intl calls</th>\n",
              "      <th>Total intl charge</th>\n",
              "      <th>Customer service calls</th>\n",
              "    </tr>\n",
              "    <tr>\n",
              "      <th>Churn</th>\n",
              "      <th></th>\n",
              "      <th></th>\n",
              "      <th></th>\n",
              "      <th></th>\n",
              "      <th></th>\n",
              "      <th></th>\n",
              "      <th></th>\n",
              "      <th></th>\n",
              "      <th></th>\n",
              "      <th></th>\n",
              "      <th></th>\n",
              "      <th></th>\n",
              "      <th></th>\n",
              "      <th></th>\n",
              "      <th></th>\n",
              "      <th></th>\n",
              "      <th></th>\n",
              "      <th></th>\n",
              "      <th></th>\n",
              "    </tr>\n",
              "  </thead>\n",
              "  <tbody>\n",
              "    <tr>\n",
              "      <th>False</th>\n",
              "      <td>2859</td>\n",
              "      <td>2859</td>\n",
              "      <td>2859</td>\n",
              "      <td>2859</td>\n",
              "      <td>2859</td>\n",
              "      <td>2859</td>\n",
              "      <td>2859</td>\n",
              "      <td>2859</td>\n",
              "      <td>2859</td>\n",
              "      <td>2859</td>\n",
              "      <td>2859</td>\n",
              "      <td>2859</td>\n",
              "      <td>2859</td>\n",
              "      <td>2859</td>\n",
              "      <td>2859</td>\n",
              "      <td>2859</td>\n",
              "      <td>2859</td>\n",
              "      <td>2859</td>\n",
              "      <td>2859</td>\n",
              "    </tr>\n",
              "    <tr>\n",
              "      <th>True</th>\n",
              "      <td>483</td>\n",
              "      <td>483</td>\n",
              "      <td>483</td>\n",
              "      <td>483</td>\n",
              "      <td>483</td>\n",
              "      <td>483</td>\n",
              "      <td>483</td>\n",
              "      <td>483</td>\n",
              "      <td>483</td>\n",
              "      <td>483</td>\n",
              "      <td>483</td>\n",
              "      <td>483</td>\n",
              "      <td>483</td>\n",
              "      <td>483</td>\n",
              "      <td>483</td>\n",
              "      <td>483</td>\n",
              "      <td>483</td>\n",
              "      <td>483</td>\n",
              "      <td>483</td>\n",
              "    </tr>\n",
              "  </tbody>\n",
              "</table>\n",
              "</div>"
            ],
            "text/plain": [
              "       State  Account length  ...  Total intl charge  Customer service calls\n",
              "Churn                         ...                                           \n",
              "False   2859            2859  ...               2859                    2859\n",
              "True     483             483  ...                483                     483\n",
              "\n",
              "[2 rows x 19 columns]"
            ]
          },
          "metadata": {},
          "execution_count": 3
        }
      ]
    },
    {
      "cell_type": "code",
      "metadata": {
        "colab": {
          "base_uri": "https://localhost:8080/"
        },
        "id": "AlRZnh3LxJke",
        "outputId": "c4b35bd1-22e4-448d-c016-38fddaa17f63"
      },
      "source": [
        "data.info()"
      ],
      "execution_count": 4,
      "outputs": [
        {
          "output_type": "stream",
          "name": "stdout",
          "text": [
            "<class 'pandas.core.frame.DataFrame'>\n",
            "RangeIndex: 3342 entries, 0 to 3341\n",
            "Data columns (total 20 columns):\n",
            " #   Column                  Non-Null Count  Dtype  \n",
            "---  ------                  --------------  -----  \n",
            " 0   State                   3342 non-null   object \n",
            " 1   Account length          3342 non-null   int64  \n",
            " 2   Area code               3342 non-null   int64  \n",
            " 3   International plan      3342 non-null   object \n",
            " 4   Voice mail plan         3342 non-null   object \n",
            " 5   Number vmail messages   3342 non-null   int64  \n",
            " 6   Total day minutes       3342 non-null   float64\n",
            " 7   Total day calls         3342 non-null   int64  \n",
            " 8   Total day charge        3342 non-null   float64\n",
            " 9   Total eve minutes       3342 non-null   float64\n",
            " 10  Total eve calls         3342 non-null   int64  \n",
            " 11  Total eve charge        3342 non-null   float64\n",
            " 12  Total night minutes     3342 non-null   float64\n",
            " 13  Total night calls       3342 non-null   int64  \n",
            " 14  Total night charge      3342 non-null   float64\n",
            " 15  Total intl minutes      3342 non-null   float64\n",
            " 16  Total intl calls        3342 non-null   int64  \n",
            " 17  Total intl charge       3342 non-null   float64\n",
            " 18  Customer service calls  3342 non-null   int64  \n",
            " 19  Churn                   3342 non-null   bool   \n",
            "dtypes: bool(1), float64(8), int64(8), object(3)\n",
            "memory usage: 499.5+ KB\n"
          ]
        }
      ]
    },
    {
      "cell_type": "markdown",
      "metadata": {
        "id": "7tiEi1fXxNq-"
      },
      "source": [
        "Objects cols are:\n",
        "- Churn\n",
        "- Voice mail plan (Bool)\n",
        "- International Plan (bool)\n",
        "- State"
      ]
    },
    {
      "cell_type": "code",
      "metadata": {
        "id": "qIiKUEGvxiKh"
      },
      "source": [
        "#Encode Bool and cat\n",
        "cate = [key for key in dict(data.dtypes) if dict(data.dtypes)[key] in ['bool', 'object']]\n",
        "le = preprocessing.LabelEncoder()\n",
        "for i in cate:\n",
        "    le.fit(data[i])\n",
        "    data[i] = le.transform(data[i])"
      ],
      "execution_count": 5,
      "outputs": []
    },
    {
      "cell_type": "code",
      "metadata": {
        "id": "HKbmigZZx57i",
        "colab": {
          "base_uri": "https://localhost:8080/",
          "height": 459
        },
        "outputId": "6519c187-2f16-41d9-bbf1-c04939cfe81c"
      },
      "source": [
        "data"
      ],
      "execution_count": 6,
      "outputs": [
        {
          "output_type": "execute_result",
          "data": {
            "text/html": [
              "<div>\n",
              "<style scoped>\n",
              "    .dataframe tbody tr th:only-of-type {\n",
              "        vertical-align: middle;\n",
              "    }\n",
              "\n",
              "    .dataframe tbody tr th {\n",
              "        vertical-align: top;\n",
              "    }\n",
              "\n",
              "    .dataframe thead th {\n",
              "        text-align: right;\n",
              "    }\n",
              "</style>\n",
              "<table border=\"1\" class=\"dataframe\">\n",
              "  <thead>\n",
              "    <tr style=\"text-align: right;\">\n",
              "      <th></th>\n",
              "      <th>State</th>\n",
              "      <th>Account length</th>\n",
              "      <th>Area code</th>\n",
              "      <th>International plan</th>\n",
              "      <th>Voice mail plan</th>\n",
              "      <th>Number vmail messages</th>\n",
              "      <th>Total day minutes</th>\n",
              "      <th>Total day calls</th>\n",
              "      <th>Total day charge</th>\n",
              "      <th>Total eve minutes</th>\n",
              "      <th>Total eve calls</th>\n",
              "      <th>Total eve charge</th>\n",
              "      <th>Total night minutes</th>\n",
              "      <th>Total night calls</th>\n",
              "      <th>Total night charge</th>\n",
              "      <th>Total intl minutes</th>\n",
              "      <th>Total intl calls</th>\n",
              "      <th>Total intl charge</th>\n",
              "      <th>Customer service calls</th>\n",
              "      <th>Churn</th>\n",
              "    </tr>\n",
              "  </thead>\n",
              "  <tbody>\n",
              "    <tr>\n",
              "      <th>0</th>\n",
              "      <td>16</td>\n",
              "      <td>128</td>\n",
              "      <td>415</td>\n",
              "      <td>0</td>\n",
              "      <td>1</td>\n",
              "      <td>25</td>\n",
              "      <td>265.1</td>\n",
              "      <td>110</td>\n",
              "      <td>45.07</td>\n",
              "      <td>197.4</td>\n",
              "      <td>99</td>\n",
              "      <td>16.78</td>\n",
              "      <td>244.7</td>\n",
              "      <td>91</td>\n",
              "      <td>11.01</td>\n",
              "      <td>10.0</td>\n",
              "      <td>3</td>\n",
              "      <td>2.70</td>\n",
              "      <td>1</td>\n",
              "      <td>0</td>\n",
              "    </tr>\n",
              "    <tr>\n",
              "      <th>1</th>\n",
              "      <td>35</td>\n",
              "      <td>107</td>\n",
              "      <td>415</td>\n",
              "      <td>0</td>\n",
              "      <td>1</td>\n",
              "      <td>26</td>\n",
              "      <td>161.6</td>\n",
              "      <td>123</td>\n",
              "      <td>27.47</td>\n",
              "      <td>195.5</td>\n",
              "      <td>103</td>\n",
              "      <td>16.62</td>\n",
              "      <td>254.4</td>\n",
              "      <td>103</td>\n",
              "      <td>11.45</td>\n",
              "      <td>13.7</td>\n",
              "      <td>3</td>\n",
              "      <td>3.70</td>\n",
              "      <td>1</td>\n",
              "      <td>0</td>\n",
              "    </tr>\n",
              "    <tr>\n",
              "      <th>2</th>\n",
              "      <td>31</td>\n",
              "      <td>137</td>\n",
              "      <td>415</td>\n",
              "      <td>0</td>\n",
              "      <td>0</td>\n",
              "      <td>0</td>\n",
              "      <td>243.4</td>\n",
              "      <td>114</td>\n",
              "      <td>41.38</td>\n",
              "      <td>121.2</td>\n",
              "      <td>110</td>\n",
              "      <td>10.30</td>\n",
              "      <td>162.6</td>\n",
              "      <td>104</td>\n",
              "      <td>7.32</td>\n",
              "      <td>12.2</td>\n",
              "      <td>5</td>\n",
              "      <td>3.29</td>\n",
              "      <td>0</td>\n",
              "      <td>0</td>\n",
              "    </tr>\n",
              "    <tr>\n",
              "      <th>3</th>\n",
              "      <td>35</td>\n",
              "      <td>84</td>\n",
              "      <td>408</td>\n",
              "      <td>1</td>\n",
              "      <td>0</td>\n",
              "      <td>0</td>\n",
              "      <td>299.4</td>\n",
              "      <td>71</td>\n",
              "      <td>50.90</td>\n",
              "      <td>61.9</td>\n",
              "      <td>88</td>\n",
              "      <td>5.26</td>\n",
              "      <td>196.9</td>\n",
              "      <td>89</td>\n",
              "      <td>8.86</td>\n",
              "      <td>6.6</td>\n",
              "      <td>7</td>\n",
              "      <td>1.78</td>\n",
              "      <td>2</td>\n",
              "      <td>0</td>\n",
              "    </tr>\n",
              "    <tr>\n",
              "      <th>4</th>\n",
              "      <td>36</td>\n",
              "      <td>75</td>\n",
              "      <td>415</td>\n",
              "      <td>1</td>\n",
              "      <td>0</td>\n",
              "      <td>0</td>\n",
              "      <td>166.7</td>\n",
              "      <td>113</td>\n",
              "      <td>28.34</td>\n",
              "      <td>148.3</td>\n",
              "      <td>122</td>\n",
              "      <td>12.61</td>\n",
              "      <td>186.9</td>\n",
              "      <td>121</td>\n",
              "      <td>8.41</td>\n",
              "      <td>10.1</td>\n",
              "      <td>3</td>\n",
              "      <td>2.73</td>\n",
              "      <td>3</td>\n",
              "      <td>0</td>\n",
              "    </tr>\n",
              "    <tr>\n",
              "      <th>...</th>\n",
              "      <td>...</td>\n",
              "      <td>...</td>\n",
              "      <td>...</td>\n",
              "      <td>...</td>\n",
              "      <td>...</td>\n",
              "      <td>...</td>\n",
              "      <td>...</td>\n",
              "      <td>...</td>\n",
              "      <td>...</td>\n",
              "      <td>...</td>\n",
              "      <td>...</td>\n",
              "      <td>...</td>\n",
              "      <td>...</td>\n",
              "      <td>...</td>\n",
              "      <td>...</td>\n",
              "      <td>...</td>\n",
              "      <td>...</td>\n",
              "      <td>...</td>\n",
              "      <td>...</td>\n",
              "      <td>...</td>\n",
              "    </tr>\n",
              "    <tr>\n",
              "      <th>3337</th>\n",
              "      <td>11</td>\n",
              "      <td>1330</td>\n",
              "      <td>510</td>\n",
              "      <td>0</td>\n",
              "      <td>0</td>\n",
              "      <td>0</td>\n",
              "      <td>217.1</td>\n",
              "      <td>615</td>\n",
              "      <td>16.95</td>\n",
              "      <td>1752.4</td>\n",
              "      <td>101</td>\n",
              "      <td>17.11</td>\n",
              "      <td>189.7</td>\n",
              "      <td>103</td>\n",
              "      <td>11.49</td>\n",
              "      <td>95.7</td>\n",
              "      <td>83</td>\n",
              "      <td>29.10</td>\n",
              "      <td>30</td>\n",
              "      <td>0</td>\n",
              "    </tr>\n",
              "    <tr>\n",
              "      <th>3338</th>\n",
              "      <td>17</td>\n",
              "      <td>1350</td>\n",
              "      <td>415</td>\n",
              "      <td>0</td>\n",
              "      <td>1</td>\n",
              "      <td>0</td>\n",
              "      <td>1308.3</td>\n",
              "      <td>90</td>\n",
              "      <td>337.50</td>\n",
              "      <td>1272.9</td>\n",
              "      <td>112</td>\n",
              "      <td>127.00</td>\n",
              "      <td>223.5</td>\n",
              "      <td>756</td>\n",
              "      <td>75.90</td>\n",
              "      <td>6.8</td>\n",
              "      <td>6</td>\n",
              "      <td>20.10</td>\n",
              "      <td>0</td>\n",
              "      <td>0</td>\n",
              "    </tr>\n",
              "    <tr>\n",
              "      <th>3339</th>\n",
              "      <td>11</td>\n",
              "      <td>1296</td>\n",
              "      <td>415</td>\n",
              "      <td>0</td>\n",
              "      <td>0</td>\n",
              "      <td>17</td>\n",
              "      <td>167.8</td>\n",
              "      <td>627</td>\n",
              "      <td>14.04</td>\n",
              "      <td>1320.7</td>\n",
              "      <td>656</td>\n",
              "      <td>24.85</td>\n",
              "      <td>244.4</td>\n",
              "      <td>131</td>\n",
              "      <td>9.45</td>\n",
              "      <td>7.1</td>\n",
              "      <td>91</td>\n",
              "      <td>26.40</td>\n",
              "      <td>0</td>\n",
              "      <td>0</td>\n",
              "    </tr>\n",
              "    <tr>\n",
              "      <th>3340</th>\n",
              "      <td>18</td>\n",
              "      <td>149</td>\n",
              "      <td>2185</td>\n",
              "      <td>0</td>\n",
              "      <td>0</td>\n",
              "      <td>0</td>\n",
              "      <td>222.8</td>\n",
              "      <td>496</td>\n",
              "      <td>327.30</td>\n",
              "      <td>160.9</td>\n",
              "      <td>796</td>\n",
              "      <td>160.60</td>\n",
              "      <td>1347.4</td>\n",
              "      <td>123</td>\n",
              "      <td>11.55</td>\n",
              "      <td>92.7</td>\n",
              "      <td>90</td>\n",
              "      <td>17.50</td>\n",
              "      <td>27</td>\n",
              "      <td>0</td>\n",
              "    </tr>\n",
              "    <tr>\n",
              "      <th>3341</th>\n",
              "      <td>37</td>\n",
              "      <td>99</td>\n",
              "      <td>2448</td>\n",
              "      <td>0</td>\n",
              "      <td>1</td>\n",
              "      <td>289</td>\n",
              "      <td>1868.4</td>\n",
              "      <td>70</td>\n",
              "      <td>18.89</td>\n",
              "      <td>205.2</td>\n",
              "      <td>709</td>\n",
              "      <td>21.68</td>\n",
              "      <td>1478.1</td>\n",
              "      <td>81</td>\n",
              "      <td>10.77</td>\n",
              "      <td>6.6</td>\n",
              "      <td>3</td>\n",
              "      <td>24.00</td>\n",
              "      <td>43</td>\n",
              "      <td>0</td>\n",
              "    </tr>\n",
              "  </tbody>\n",
              "</table>\n",
              "<p>3342 rows × 20 columns</p>\n",
              "</div>"
            ],
            "text/plain": [
              "      State  Account length  ...  Customer service calls  Churn\n",
              "0        16             128  ...                       1      0\n",
              "1        35             107  ...                       1      0\n",
              "2        31             137  ...                       0      0\n",
              "3        35              84  ...                       2      0\n",
              "4        36              75  ...                       3      0\n",
              "...     ...             ...  ...                     ...    ...\n",
              "3337     11            1330  ...                      30      0\n",
              "3338     17            1350  ...                       0      0\n",
              "3339     11            1296  ...                       0      0\n",
              "3340     18             149  ...                      27      0\n",
              "3341     37              99  ...                      43      0\n",
              "\n",
              "[3342 rows x 20 columns]"
            ]
          },
          "metadata": {},
          "execution_count": 6
        }
      ]
    },
    {
      "cell_type": "code",
      "metadata": {
        "id": "QbxiOG83BXXM"
      },
      "source": [
        "data = data.drop('Account length', 1)\n",
        "data = data.drop('Area code', 1)\n",
        "data = data.drop('State', 1) #Just for test reasons"
      ],
      "execution_count": 7,
      "outputs": []
    },
    {
      "cell_type": "code",
      "metadata": {
        "id": "OSud-nrMBagc"
      },
      "source": [
        "subset = data.sample(n=1000)"
      ],
      "execution_count": 8,
      "outputs": []
    },
    {
      "cell_type": "code",
      "metadata": {
        "id": "FyYzWTpBCsl7",
        "colab": {
          "base_uri": "https://localhost:8080/",
          "height": 362
        },
        "outputId": "2c74654b-77a7-4f80-d3b1-a02b6b476d94"
      },
      "source": [
        "#Imbalanced response var\n",
        "\n",
        "y = data[\"Churn\"].value_counts()\n",
        "unbalanced_y = sns.barplot(y.index, y.values)\n",
        "unbalanced_y.figure.savefig(\"unbalanced_y.png\")"
      ],
      "execution_count": 9,
      "outputs": [
        {
          "output_type": "stream",
          "name": "stderr",
          "text": [
            "/usr/local/lib/python3.7/dist-packages/seaborn/_decorators.py:43: FutureWarning:\n",
            "\n",
            "Pass the following variables as keyword args: x, y. From version 0.12, the only valid positional argument will be `data`, and passing other arguments without an explicit keyword will result in an error or misinterpretation.\n",
            "\n"
          ]
        },
        {
          "output_type": "display_data",
          "data": {
            "image/png": "[encoded data removed]",
            "text/plain": [
              "<Figure size 432x288 with 1 Axes>"
            ]
          },
          "metadata": {
            "needs_background": "light"
          }
        }
      ]
    },
    {
      "cell_type": "code",
      "metadata": {
        "id": "CdVdyDIGBeI_",
        "colab": {
          "base_uri": "https://localhost:8080/",
          "height": 740
        },
        "outputId": "28d3087f-9071-41db-ad3e-bad098508004"
      },
      "source": [
        "# Distribution\n",
        "distro = ['Total day minutes','Total day calls', 'Total eve minutes', 'Total eve calls', 'Total intl minutes', 'Total intl calls']\n",
        "Skew, Kurt = [], []\n",
        "for column in distro:\n",
        "    sns.distplot(subset[column])\n",
        "    Skew.append(\"Skewness coeff. for {} is: {}\".format(column, subset[column].skew()))\n",
        "    Kurt.append(\"Kurtosis coeff. for {} is: {}\".format(column, subset[column].kurt()))\n"
      ],
      "execution_count": 10,
      "outputs": [
        {
          "output_type": "stream",
          "name": "stderr",
          "text": [
            "/usr/local/lib/python3.7/dist-packages/seaborn/distributions.py:2619: FutureWarning:\n",
            "\n",
            "`distplot` is a deprecated function and will be removed in a future version. Please adapt your code to use either `displot` (a figure-level function with similar flexibility) or `histplot` (an axes-level function for histograms).\n",
            "\n",
            "/usr/local/lib/python3.7/dist-packages/seaborn/distributions.py:2619: FutureWarning:\n",
            "\n",
            "`distplot` is a deprecated function and will be removed in a future version. Please adapt your code to use either `displot` (a figure-level function with similar flexibility) or `histplot` (an axes-level function for histograms).\n",
            "\n",
            "/usr/local/lib/python3.7/dist-packages/seaborn/distributions.py:2619: FutureWarning:\n",
            "\n",
            "`distplot` is a deprecated function and will be removed in a future version. Please adapt your code to use either `displot` (a figure-level function with similar flexibility) or `histplot` (an axes-level function for histograms).\n",
            "\n",
            "/usr/local/lib/python3.7/dist-packages/seaborn/distributions.py:2619: FutureWarning:\n",
            "\n",
            "`distplot` is a deprecated function and will be removed in a future version. Please adapt your code to use either `displot` (a figure-level function with similar flexibility) or `histplot` (an axes-level function for histograms).\n",
            "\n",
            "/usr/local/lib/python3.7/dist-packages/seaborn/distributions.py:2619: FutureWarning:\n",
            "\n",
            "`distplot` is a deprecated function and will be removed in a future version. Please adapt your code to use either `displot` (a figure-level function with similar flexibility) or `histplot` (an axes-level function for histograms).\n",
            "\n",
            "/usr/local/lib/python3.7/dist-packages/seaborn/distributions.py:2619: FutureWarning:\n",
            "\n",
            "`distplot` is a deprecated function and will be removed in a future version. Please adapt your code to use either `displot` (a figure-level function with similar flexibility) or `histplot` (an axes-level function for histograms).\n",
            "\n"
          ]
        },
        {
          "output_type": "display_data",
          "data": {
            "image/png": "[encoded data removed]",
            "text/plain": [
              "<Figure size 432x288 with 1 Axes>"
            ]
          },
          "metadata": {
            "needs_background": "light"
          }
        }
      ]
    },
    {
      "cell_type": "code",
      "metadata": {
        "id": "g6LRefRpBg_o",
        "colab": {
          "base_uri": "https://localhost:8080/"
        },
        "outputId": "6e31f8a2-b2f3-4c38-f82c-1d5a810fc4f6"
      },
      "source": [
        "Skew"
      ],
      "execution_count": 11,
      "outputs": [
        {
          "output_type": "execute_result",
          "data": {
            "text/plain": [
              "['Skewness coeff. for Total day minutes is: 11.33528478974122',\n",
              " 'Skewness coeff. for Total day calls is: 9.350439670661176',\n",
              " 'Skewness coeff. for Total eve minutes is: 11.715791771919983',\n",
              " 'Skewness coeff. for Total eve calls is: 11.37857932764967',\n",
              " 'Skewness coeff. for Total intl minutes is: 11.028750763921547',\n",
              " 'Skewness coeff. for Total intl calls is: 13.160100449913873']"
            ]
          },
          "metadata": {},
          "execution_count": 11
        }
      ]
    },
    {
      "cell_type": "code",
      "metadata": {
        "id": "WV8OeVAPB3qx",
        "colab": {
          "base_uri": "https://localhost:8080/"
        },
        "outputId": "66f8d78d-4fca-4538-889c-5fd9e273d420"
      },
      "source": [
        "Kurt"
      ],
      "execution_count": 12,
      "outputs": [
        {
          "output_type": "execute_result",
          "data": {
            "text/plain": [
              "['Kurtosis coeff. for Total day minutes is: 212.0213602441138',\n",
              " 'Kurtosis coeff. for Total day calls is: 137.16466831148446',\n",
              " 'Kurtosis coeff. for Total eve minutes is: 175.61223834988297',\n",
              " 'Kurtosis coeff. for Total eve calls is: 183.1456621276083',\n",
              " 'Kurtosis coeff. for Total intl minutes is: 196.33590232635845',\n",
              " 'Kurtosis coeff. for Total intl calls is: 242.12810675324485']"
            ]
          },
          "metadata": {},
          "execution_count": 12
        }
      ]
    },
    {
      "cell_type": "code",
      "metadata": {
        "id": "fL7Zu474Elfe",
        "colab": {
          "base_uri": "https://localhost:8080/",
          "height": 1000
        },
        "outputId": "9d279474-3f3b-4645-d906-f16a8db6769e"
      },
      "source": [
        "for column in data:\n",
        "  sns.boxplot(x=data[column])\n",
        "  plt.show()"
      ],
      "execution_count": 13,
      "outputs": [
        {
          "output_type": "display_data",
          "data": {
            "image/png": "[encoded data removed]",
            "text/plain": [
              "<Figure size 432x288 with 1 Axes>"
            ]
          },
          "metadata": {
            "needs_background": "light"
          }
        },
        {
          "output_type": "display_data",
          "data": {
            "image/png": "[encoded data removed]",
            "text/plain": [
              "<Figure size 432x288 with 1 Axes>"
            ]
          },
          "metadata": {
            "needs_background": "light"
          }
        },
        {
          "output_type": "display_data",
          "data": {
            "image/png": "[encoded data removed]",
            "text/plain": [
              "<Figure size 432x288 with 1 Axes>"
            ]
          },
          "metadata": {
            "needs_background": "light"
          }
        },
        {
          "output_type": "display_data",
          "data": {
            "image/png": "[encoded data removed]",
            "text/plain": [
              "<Figure size 432x288 with 1 Axes>"
            ]
          },
          "metadata": {
            "needs_background": "light"
          }
        },
        {
          "output_type": "display_data",
          "data": {
            "image/png": "[encoded data removed]",
            "text/plain": [
              "<Figure size 432x288 with 1 Axes>"
            ]
          },
          "metadata": {
            "needs_background": "light"
          }
        },
        {
          "output_type": "display_data",
          "data": {
            "image/png": "[encoded data removed]",
            "text/plain": [
              "<Figure size 432x288 with 1 Axes>"
            ]
          },
          "metadata": {
            "needs_background": "light"
          }
        },
        {
          "output_type": "display_data",
          "data": {
            "image/png": "[encoded data removed]",
            "text/plain": [
              "<Figure size 432x288 with 1 Axes>"
            ]
          },
          "metadata": {
            "needs_background": "light"
          }
        },
        {
          "output_type": "display_data",
          "data": {
            "image/png": "[encoded data removed]",
            "text/plain": [
              "<Figure size 432x288 with 1 Axes>"
            ]
          },
          "metadata": {
            "needs_background": "light"
          }
        },
        {
          "output_type": "display_data",
          "data": {
            "image/png": "[encoded data removed]",
            "text/plain": [
              "<Figure size 432x288 with 1 Axes>"
            ]
          },
          "metadata": {
            "needs_background": "light"
          }
        },
        {
          "output_type": "display_data",
          "data": {
            "image/png": "[encoded data removed]",
            "text/plain": [
              "<Figure size 432x288 with 1 Axes>"
            ]
          },
          "metadata": {
            "needs_background": "light"
          }
        },
        {
          "output_type": "display_data",
          "data": {
            "image/png": "[encoded data removed]",
            "text/plain": [
              "<Figure size 432x288 with 1 Axes>"
            ]
          },
          "metadata": {
            "needs_background": "light"
          }
        },
        {
          "output_type": "display_data",
          "data": {
            "image/png": "[encoded data removed]",
            "text/plain": [
              "<Figure size 432x288 with 1 Axes>"
            ]
          },
          "metadata": {
            "needs_background": "light"
          }
        },
        {
          "output_type": "display_data",
          "data": {
            "image/png": "[encoded data removed]",
            "text/plain": [
              "<Figure size 432x288 with 1 Axes>"
            ]
          },
          "metadata": {
            "needs_background": "light"
          }
        },
        {
          "output_type": "display_data",
          "data": {
            "image/png": "[encoded data removed]",
            "text/plain": [
              "<Figure size 432x288 with 1 Axes>"
            ]
          },
          "metadata": {
            "needs_background": "light"
          }
        },
        {
          "output_type": "display_data",
          "data": {
            "image/png": "[encoded data removed]",
            "text/plain": [
              "<Figure size 432x288 with 1 Axes>"
            ]
          },
          "metadata": {
            "needs_background": "light"
          }
        },
        {
          "output_type": "display_data",
          "data": {
            "image/png": "[encoded data removed]",
            "text/plain": [
              "<Figure size 432x288 with 1 Axes>"
            ]
          },
          "metadata": {
            "needs_background": "light"
          }
        },
        {
          "output_type": "display_data",
          "data": {
            "image/png": "[encoded data removed]",
            "text/plain": [
              "<Figure size 432x288 with 1 Axes>"
            ]
          },
          "metadata": {
            "needs_background": "light"
          }
        }
      ]
    },
    {
      "cell_type": "markdown",
      "metadata": {
        "id": "3Zbb6KutHBC5"
      },
      "source": [
        "## Outliers removal\n",
        "\n",
        "International Plan - no -> bool\n",
        "Churn - no -> bool\n",
        "Voice mail plan - no -> bool"
      ]
    },
    {
      "cell_type": "code",
      "metadata": {
        "id": "RLQvK4NqGJFI"
      },
      "source": [
        "# To test later\n",
        "data.groupby([\"State\", \"Churn\"]).size().unstack().plot(kind='bar', stacked=True, figsize=(30,10)) "
      ],
      "execution_count": null,
      "outputs": []
    },
    {
      "cell_type": "code",
      "metadata": {
        "id": "3xXLWn48Z_AA"
      },
      "source": [
        "cols = ['Number vmail messages', 'Total day minutes', 'Total day calls', 'Total eve minutes', 'Total eve calls', 'Total night minutes', 'Total intl minutes'] \n",
        "\n",
        "Q1 = data[cols].quantile(0.25)\n",
        "Q3 = data[cols].quantile(0.75)\n",
        "IQR = Q3 - Q1\n",
        "\n",
        "data = data[~((data[cols] < (Q1 - 1.5 * IQR)) |(data[cols] > (Q3 + 1.5 * IQR))).any(axis=1)]"
      ],
      "execution_count": 16,
      "outputs": []
    },
    {
      "cell_type": "code",
      "metadata": {
        "colab": {
          "base_uri": "https://localhost:8080/",
          "height": 178
        },
        "id": "foSFGlzDFtnO",
        "outputId": "116b306e-11f3-4e49-d8d3-a79378f2c7d0"
      },
      "source": [
        "data.groupby('Churn').count()"
      ],
      "execution_count": 17,
      "outputs": [
        {
          "output_type": "execute_result",
          "data": {
            "text/html": [
              "<div>\n",
              "<style scoped>\n",
              "    .dataframe tbody tr th:only-of-type {\n",
              "        vertical-align: middle;\n",
              "    }\n",
              "\n",
              "    .dataframe tbody tr th {\n",
              "        vertical-align: top;\n",
              "    }\n",
              "\n",
              "    .dataframe thead th {\n",
              "        text-align: right;\n",
              "    }\n",
              "</style>\n",
              "<table border=\"1\" class=\"dataframe\">\n",
              "  <thead>\n",
              "    <tr style=\"text-align: right;\">\n",
              "      <th></th>\n",
              "      <th>International plan</th>\n",
              "      <th>Voice mail plan</th>\n",
              "      <th>Number vmail messages</th>\n",
              "      <th>Total day minutes</th>\n",
              "      <th>Total day calls</th>\n",
              "      <th>Total day charge</th>\n",
              "      <th>Total eve minutes</th>\n",
              "      <th>Total eve calls</th>\n",
              "      <th>Total eve charge</th>\n",
              "      <th>Total night minutes</th>\n",
              "      <th>Total night calls</th>\n",
              "      <th>Total night charge</th>\n",
              "      <th>Total intl minutes</th>\n",
              "      <th>Total intl calls</th>\n",
              "      <th>Total intl charge</th>\n",
              "      <th>Customer service calls</th>\n",
              "    </tr>\n",
              "    <tr>\n",
              "      <th>Churn</th>\n",
              "      <th></th>\n",
              "      <th></th>\n",
              "      <th></th>\n",
              "      <th></th>\n",
              "      <th></th>\n",
              "      <th></th>\n",
              "      <th></th>\n",
              "      <th></th>\n",
              "      <th></th>\n",
              "      <th></th>\n",
              "      <th></th>\n",
              "      <th></th>\n",
              "      <th></th>\n",
              "      <th></th>\n",
              "      <th></th>\n",
              "      <th></th>\n",
              "    </tr>\n",
              "  </thead>\n",
              "  <tbody>\n",
              "    <tr>\n",
              "      <th>0</th>\n",
              "      <td>2705</td>\n",
              "      <td>2705</td>\n",
              "      <td>2705</td>\n",
              "      <td>2705</td>\n",
              "      <td>2705</td>\n",
              "      <td>2705</td>\n",
              "      <td>2705</td>\n",
              "      <td>2705</td>\n",
              "      <td>2705</td>\n",
              "      <td>2705</td>\n",
              "      <td>2705</td>\n",
              "      <td>2705</td>\n",
              "      <td>2705</td>\n",
              "      <td>2705</td>\n",
              "      <td>2705</td>\n",
              "      <td>2705</td>\n",
              "    </tr>\n",
              "    <tr>\n",
              "      <th>1</th>\n",
              "      <td>447</td>\n",
              "      <td>447</td>\n",
              "      <td>447</td>\n",
              "      <td>447</td>\n",
              "      <td>447</td>\n",
              "      <td>447</td>\n",
              "      <td>447</td>\n",
              "      <td>447</td>\n",
              "      <td>447</td>\n",
              "      <td>447</td>\n",
              "      <td>447</td>\n",
              "      <td>447</td>\n",
              "      <td>447</td>\n",
              "      <td>447</td>\n",
              "      <td>447</td>\n",
              "      <td>447</td>\n",
              "    </tr>\n",
              "  </tbody>\n",
              "</table>\n",
              "</div>"
            ],
            "text/plain": [
              "       International plan  ...  Customer service calls\n",
              "Churn                      ...                        \n",
              "0                    2705  ...                    2705\n",
              "1                     447  ...                     447\n",
              "\n",
              "[2 rows x 16 columns]"
            ]
          },
          "metadata": {},
          "execution_count": 17
        }
      ]
    },
    {
      "cell_type": "code",
      "metadata": {
        "colab": {
          "base_uri": "https://localhost:8080/",
          "height": 655
        },
        "id": "bumPdw-NHu7R",
        "outputId": "01f12c30-632b-4b49-e380-e278a2c60bab"
      },
      "source": [
        "corrmat = data.corr()\n",
        "top_corr_features = corrmat.index[abs(corrmat[\"Churn\"])>0.06]\n",
        "plt.figure(figsize=(9,9))\n",
        "g = sns.heatmap(data[top_corr_features].corr(),annot=True,cmap=\"RdYlGn\")"
      ],
      "execution_count": 18,
      "outputs": [
        {
          "output_type": "display_data",
          "data": {
            "image/png": "[encoded data removed]",
            "text/plain": [
              "<Figure size 648x648 with 2 Axes>"
            ]
          },
          "metadata": {
            "needs_background": "light"
          }
        }
      ]
    },
    {
      "cell_type": "code",
      "metadata": {
        "colab": {
          "base_uri": "https://localhost:8080/",
          "height": 583
        },
        "id": "y1cSp_yTGBfE",
        "outputId": "a9d8d6cb-5894-4c0d-82ca-aaefa38754fd"
      },
      "source": [
        "## Missing Values\n",
        "total_null = data.isnull().sum().sort_values(ascending=False) #First sum and order all null values for each variable\n",
        "percentage = (data.isnull().sum()/data.isnull().count()).sort_values(ascending=False) #Get the percentage\n",
        "missing_data = pd.concat([total_null, percentage], axis=1, keys=['Total', 'Percentage'])\n",
        "missing_data.head(20)"
      ],
      "execution_count": 19,
      "outputs": [
        {
          "output_type": "execute_result",
          "data": {
            "text/html": [
              "<div>\n",
              "<style scoped>\n",
              "    .dataframe tbody tr th:only-of-type {\n",
              "        vertical-align: middle;\n",
              "    }\n",
              "\n",
              "    .dataframe tbody tr th {\n",
              "        vertical-align: top;\n",
              "    }\n",
              "\n",
              "    .dataframe thead th {\n",
              "        text-align: right;\n",
              "    }\n",
              "</style>\n",
              "<table border=\"1\" class=\"dataframe\">\n",
              "  <thead>\n",
              "    <tr style=\"text-align: right;\">\n",
              "      <th></th>\n",
              "      <th>Total</th>\n",
              "      <th>Percentage</th>\n",
              "    </tr>\n",
              "  </thead>\n",
              "  <tbody>\n",
              "    <tr>\n",
              "      <th>Churn</th>\n",
              "      <td>0</td>\n",
              "      <td>0.0</td>\n",
              "    </tr>\n",
              "    <tr>\n",
              "      <th>Total eve calls</th>\n",
              "      <td>0</td>\n",
              "      <td>0.0</td>\n",
              "    </tr>\n",
              "    <tr>\n",
              "      <th>Voice mail plan</th>\n",
              "      <td>0</td>\n",
              "      <td>0.0</td>\n",
              "    </tr>\n",
              "    <tr>\n",
              "      <th>Number vmail messages</th>\n",
              "      <td>0</td>\n",
              "      <td>0.0</td>\n",
              "    </tr>\n",
              "    <tr>\n",
              "      <th>Total day minutes</th>\n",
              "      <td>0</td>\n",
              "      <td>0.0</td>\n",
              "    </tr>\n",
              "    <tr>\n",
              "      <th>Total day calls</th>\n",
              "      <td>0</td>\n",
              "      <td>0.0</td>\n",
              "    </tr>\n",
              "    <tr>\n",
              "      <th>Total day charge</th>\n",
              "      <td>0</td>\n",
              "      <td>0.0</td>\n",
              "    </tr>\n",
              "    <tr>\n",
              "      <th>Total eve minutes</th>\n",
              "      <td>0</td>\n",
              "      <td>0.0</td>\n",
              "    </tr>\n",
              "    <tr>\n",
              "      <th>Total eve charge</th>\n",
              "      <td>0</td>\n",
              "      <td>0.0</td>\n",
              "    </tr>\n",
              "    <tr>\n",
              "      <th>Customer service calls</th>\n",
              "      <td>0</td>\n",
              "      <td>0.0</td>\n",
              "    </tr>\n",
              "    <tr>\n",
              "      <th>Total night minutes</th>\n",
              "      <td>0</td>\n",
              "      <td>0.0</td>\n",
              "    </tr>\n",
              "    <tr>\n",
              "      <th>Total night calls</th>\n",
              "      <td>0</td>\n",
              "      <td>0.0</td>\n",
              "    </tr>\n",
              "    <tr>\n",
              "      <th>Total night charge</th>\n",
              "      <td>0</td>\n",
              "      <td>0.0</td>\n",
              "    </tr>\n",
              "    <tr>\n",
              "      <th>Total intl minutes</th>\n",
              "      <td>0</td>\n",
              "      <td>0.0</td>\n",
              "    </tr>\n",
              "    <tr>\n",
              "      <th>Total intl calls</th>\n",
              "      <td>0</td>\n",
              "      <td>0.0</td>\n",
              "    </tr>\n",
              "    <tr>\n",
              "      <th>Total intl charge</th>\n",
              "      <td>0</td>\n",
              "      <td>0.0</td>\n",
              "    </tr>\n",
              "    <tr>\n",
              "      <th>International plan</th>\n",
              "      <td>0</td>\n",
              "      <td>0.0</td>\n",
              "    </tr>\n",
              "  </tbody>\n",
              "</table>\n",
              "</div>"
            ],
            "text/plain": [
              "                        Total  Percentage\n",
              "Churn                       0         0.0\n",
              "Total eve calls             0         0.0\n",
              "Voice mail plan             0         0.0\n",
              "Number vmail messages       0         0.0\n",
              "Total day minutes           0         0.0\n",
              "Total day calls             0         0.0\n",
              "Total day charge            0         0.0\n",
              "Total eve minutes           0         0.0\n",
              "Total eve charge            0         0.0\n",
              "Customer service calls      0         0.0\n",
              "Total night minutes         0         0.0\n",
              "Total night calls           0         0.0\n",
              "Total night charge          0         0.0\n",
              "Total intl minutes          0         0.0\n",
              "Total intl calls            0         0.0\n",
              "Total intl charge           0         0.0\n",
              "International plan          0         0.0"
            ]
          },
          "metadata": {},
          "execution_count": 19
        }
      ]
    },
    {
      "cell_type": "code",
      "metadata": {
        "id": "NwjdKg4MGkex"
      },
      "source": [
        "# Normalization\n",
        "scaler = MinMaxScaler()\n",
        "data_scaled = scaler.fit_transform(data)"
      ],
      "execution_count": 20,
      "outputs": []
    },
    {
      "cell_type": "code",
      "metadata": {
        "id": "DRneQ1VxpB4U"
      },
      "source": [
        "y = data['Churn']\n",
        "data = data.drop(['Churn'],axis=1)\n",
        "xtrain, xvalid, ytrain, yvalid = train_test_split(data, y, \n",
        "                                                  stratify=y, \n",
        "                                                  random_state=42, \n",
        "                                                  test_size=0.2, shuffle=True)"
      ],
      "execution_count": 21,
      "outputs": []
    },
    {
      "cell_type": "code",
      "metadata": {
        "colab": {
          "base_uri": "https://localhost:8080/"
        },
        "id": "iIQqt72-2Clg",
        "outputId": "e7db61b9-984c-4f86-e066-0bd1dabf631c"
      },
      "source": [
        "print(xtrain.shape, xvalid.shape, ytrain.shape, yvalid.shape)"
      ],
      "execution_count": 22,
      "outputs": [
        {
          "output_type": "stream",
          "name": "stdout",
          "text": [
            "(2521, 16) (631, 16) (2521,) (631,)\n"
          ]
        }
      ]
    },
    {
      "cell_type": "code",
      "metadata": {
        "id": "hUhWcoFl8Han"
      },
      "source": [
        "full_train = pd.concat([xtrain, ytrain], axis=1)"
      ],
      "execution_count": 23,
      "outputs": []
    },
    {
      "cell_type": "code",
      "metadata": {
        "id": "47FMfkhn_gDk"
      },
      "source": [
        "full_valid = pd.concat([xvalid, yvalid], axis=1)"
      ],
      "execution_count": 24,
      "outputs": []
    },
    {
      "cell_type": "code",
      "metadata": {
        "id": "37x2wdeG8hCd",
        "colab": {
          "base_uri": "https://localhost:8080/",
          "height": 459
        },
        "outputId": "b1f6e3bf-e7fc-4296-9f97-56d472b48fb6"
      },
      "source": [
        "full_train"
      ],
      "execution_count": 25,
      "outputs": [
        {
          "output_type": "execute_result",
          "data": {
            "text/html": [
              "<div>\n",
              "<style scoped>\n",
              "    .dataframe tbody tr th:only-of-type {\n",
              "        vertical-align: middle;\n",
              "    }\n",
              "\n",
              "    .dataframe tbody tr th {\n",
              "        vertical-align: top;\n",
              "    }\n",
              "\n",
              "    .dataframe thead th {\n",
              "        text-align: right;\n",
              "    }\n",
              "</style>\n",
              "<table border=\"1\" class=\"dataframe\">\n",
              "  <thead>\n",
              "    <tr style=\"text-align: right;\">\n",
              "      <th></th>\n",
              "      <th>International plan</th>\n",
              "      <th>Voice mail plan</th>\n",
              "      <th>Number vmail messages</th>\n",
              "      <th>Total day minutes</th>\n",
              "      <th>Total day calls</th>\n",
              "      <th>Total day charge</th>\n",
              "      <th>Total eve minutes</th>\n",
              "      <th>Total eve calls</th>\n",
              "      <th>Total eve charge</th>\n",
              "      <th>Total night minutes</th>\n",
              "      <th>Total night calls</th>\n",
              "      <th>Total night charge</th>\n",
              "      <th>Total intl minutes</th>\n",
              "      <th>Total intl calls</th>\n",
              "      <th>Total intl charge</th>\n",
              "      <th>Customer service calls</th>\n",
              "      <th>Churn</th>\n",
              "    </tr>\n",
              "  </thead>\n",
              "  <tbody>\n",
              "    <tr>\n",
              "      <th>1213</th>\n",
              "      <td>1</td>\n",
              "      <td>0</td>\n",
              "      <td>0</td>\n",
              "      <td>46.5</td>\n",
              "      <td>104</td>\n",
              "      <td>7.91</td>\n",
              "      <td>186.0</td>\n",
              "      <td>114</td>\n",
              "      <td>15.81</td>\n",
              "      <td>167.5</td>\n",
              "      <td>95</td>\n",
              "      <td>7.54</td>\n",
              "      <td>9.6</td>\n",
              "      <td>4</td>\n",
              "      <td>2.59</td>\n",
              "      <td>4</td>\n",
              "      <td>1</td>\n",
              "    </tr>\n",
              "    <tr>\n",
              "      <th>77</th>\n",
              "      <td>0</td>\n",
              "      <td>0</td>\n",
              "      <td>0</td>\n",
              "      <td>124.3</td>\n",
              "      <td>100</td>\n",
              "      <td>21.13</td>\n",
              "      <td>173.0</td>\n",
              "      <td>107</td>\n",
              "      <td>14.71</td>\n",
              "      <td>253.2</td>\n",
              "      <td>62</td>\n",
              "      <td>11.39</td>\n",
              "      <td>7.9</td>\n",
              "      <td>9</td>\n",
              "      <td>2.13</td>\n",
              "      <td>1</td>\n",
              "      <td>0</td>\n",
              "    </tr>\n",
              "    <tr>\n",
              "      <th>3082</th>\n",
              "      <td>0</td>\n",
              "      <td>0</td>\n",
              "      <td>0</td>\n",
              "      <td>240.1</td>\n",
              "      <td>115</td>\n",
              "      <td>40.82</td>\n",
              "      <td>180.4</td>\n",
              "      <td>91</td>\n",
              "      <td>15.33</td>\n",
              "      <td>133.4</td>\n",
              "      <td>122</td>\n",
              "      <td>6.00</td>\n",
              "      <td>8.0</td>\n",
              "      <td>6</td>\n",
              "      <td>2.16</td>\n",
              "      <td>3</td>\n",
              "      <td>0</td>\n",
              "    </tr>\n",
              "    <tr>\n",
              "      <th>1539</th>\n",
              "      <td>0</td>\n",
              "      <td>0</td>\n",
              "      <td>0</td>\n",
              "      <td>199.2</td>\n",
              "      <td>124</td>\n",
              "      <td>33.86</td>\n",
              "      <td>126.0</td>\n",
              "      <td>86</td>\n",
              "      <td>10.71</td>\n",
              "      <td>289.2</td>\n",
              "      <td>135</td>\n",
              "      <td>13.01</td>\n",
              "      <td>7.6</td>\n",
              "      <td>3</td>\n",
              "      <td>2.05</td>\n",
              "      <td>1</td>\n",
              "      <td>0</td>\n",
              "    </tr>\n",
              "    <tr>\n",
              "      <th>865</th>\n",
              "      <td>0</td>\n",
              "      <td>0</td>\n",
              "      <td>0</td>\n",
              "      <td>274.4</td>\n",
              "      <td>120</td>\n",
              "      <td>46.65</td>\n",
              "      <td>198.6</td>\n",
              "      <td>82</td>\n",
              "      <td>16.88</td>\n",
              "      <td>160.8</td>\n",
              "      <td>62</td>\n",
              "      <td>7.24</td>\n",
              "      <td>6.0</td>\n",
              "      <td>3</td>\n",
              "      <td>1.62</td>\n",
              "      <td>1</td>\n",
              "      <td>0</td>\n",
              "    </tr>\n",
              "    <tr>\n",
              "      <th>...</th>\n",
              "      <td>...</td>\n",
              "      <td>...</td>\n",
              "      <td>...</td>\n",
              "      <td>...</td>\n",
              "      <td>...</td>\n",
              "      <td>...</td>\n",
              "      <td>...</td>\n",
              "      <td>...</td>\n",
              "      <td>...</td>\n",
              "      <td>...</td>\n",
              "      <td>...</td>\n",
              "      <td>...</td>\n",
              "      <td>...</td>\n",
              "      <td>...</td>\n",
              "      <td>...</td>\n",
              "      <td>...</td>\n",
              "      <td>...</td>\n",
              "    </tr>\n",
              "    <tr>\n",
              "      <th>228</th>\n",
              "      <td>0</td>\n",
              "      <td>1</td>\n",
              "      <td>28</td>\n",
              "      <td>221.6</td>\n",
              "      <td>74</td>\n",
              "      <td>37.67</td>\n",
              "      <td>288.4</td>\n",
              "      <td>100</td>\n",
              "      <td>24.51</td>\n",
              "      <td>240.3</td>\n",
              "      <td>105</td>\n",
              "      <td>10.81</td>\n",
              "      <td>9.0</td>\n",
              "      <td>2</td>\n",
              "      <td>2.43</td>\n",
              "      <td>1</td>\n",
              "      <td>0</td>\n",
              "    </tr>\n",
              "    <tr>\n",
              "      <th>3135</th>\n",
              "      <td>0</td>\n",
              "      <td>0</td>\n",
              "      <td>0</td>\n",
              "      <td>197.0</td>\n",
              "      <td>79</td>\n",
              "      <td>33.49</td>\n",
              "      <td>201.0</td>\n",
              "      <td>114</td>\n",
              "      <td>17.09</td>\n",
              "      <td>151.2</td>\n",
              "      <td>111</td>\n",
              "      <td>6.80</td>\n",
              "      <td>11.6</td>\n",
              "      <td>5</td>\n",
              "      <td>3.13</td>\n",
              "      <td>1</td>\n",
              "      <td>0</td>\n",
              "    </tr>\n",
              "    <tr>\n",
              "      <th>2550</th>\n",
              "      <td>0</td>\n",
              "      <td>0</td>\n",
              "      <td>0</td>\n",
              "      <td>141.4</td>\n",
              "      <td>128</td>\n",
              "      <td>24.04</td>\n",
              "      <td>146.4</td>\n",
              "      <td>70</td>\n",
              "      <td>12.44</td>\n",
              "      <td>123.0</td>\n",
              "      <td>75</td>\n",
              "      <td>5.54</td>\n",
              "      <td>8.1</td>\n",
              "      <td>4</td>\n",
              "      <td>2.19</td>\n",
              "      <td>0</td>\n",
              "      <td>0</td>\n",
              "    </tr>\n",
              "    <tr>\n",
              "      <th>2519</th>\n",
              "      <td>0</td>\n",
              "      <td>0</td>\n",
              "      <td>0</td>\n",
              "      <td>131.9</td>\n",
              "      <td>96</td>\n",
              "      <td>22.42</td>\n",
              "      <td>167.6</td>\n",
              "      <td>107</td>\n",
              "      <td>14.25</td>\n",
              "      <td>205.9</td>\n",
              "      <td>106</td>\n",
              "      <td>9.27</td>\n",
              "      <td>14.7</td>\n",
              "      <td>5</td>\n",
              "      <td>3.97</td>\n",
              "      <td>3</td>\n",
              "      <td>0</td>\n",
              "    </tr>\n",
              "    <tr>\n",
              "      <th>2241</th>\n",
              "      <td>0</td>\n",
              "      <td>1</td>\n",
              "      <td>17</td>\n",
              "      <td>167.9</td>\n",
              "      <td>114</td>\n",
              "      <td>28.54</td>\n",
              "      <td>243.7</td>\n",
              "      <td>93</td>\n",
              "      <td>20.71</td>\n",
              "      <td>211.9</td>\n",
              "      <td>114</td>\n",
              "      <td>9.54</td>\n",
              "      <td>9.1</td>\n",
              "      <td>2</td>\n",
              "      <td>2.46</td>\n",
              "      <td>1</td>\n",
              "      <td>0</td>\n",
              "    </tr>\n",
              "  </tbody>\n",
              "</table>\n",
              "<p>2521 rows × 17 columns</p>\n",
              "</div>"
            ],
            "text/plain": [
              "      International plan  Voice mail plan  ...  Customer service calls  Churn\n",
              "1213                   1                0  ...                       4      1\n",
              "77                     0                0  ...                       1      0\n",
              "3082                   0                0  ...                       3      0\n",
              "1539                   0                0  ...                       1      0\n",
              "865                    0                0  ...                       1      0\n",
              "...                  ...              ...  ...                     ...    ...\n",
              "228                    0                1  ...                       1      0\n",
              "3135                   0                0  ...                       1      0\n",
              "2550                   0                0  ...                       0      0\n",
              "2519                   0                0  ...                       3      0\n",
              "2241                   0                1  ...                       1      0\n",
              "\n",
              "[2521 rows x 17 columns]"
            ]
          },
          "metadata": {},
          "execution_count": 25
        }
      ]
    },
    {
      "cell_type": "code",
      "metadata": {
        "id": "njFTDXnYCRtg",
        "colab": {
          "base_uri": "https://localhost:8080/",
          "height": 459
        },
        "outputId": "b3de2540-60ed-48f2-9f8a-bb7f468f7833"
      },
      "source": [
        "full_valid"
      ],
      "execution_count": 26,
      "outputs": [
        {
          "output_type": "execute_result",
          "data": {
            "text/html": [
              "<div>\n",
              "<style scoped>\n",
              "    .dataframe tbody tr th:only-of-type {\n",
              "        vertical-align: middle;\n",
              "    }\n",
              "\n",
              "    .dataframe tbody tr th {\n",
              "        vertical-align: top;\n",
              "    }\n",
              "\n",
              "    .dataframe thead th {\n",
              "        text-align: right;\n",
              "    }\n",
              "</style>\n",
              "<table border=\"1\" class=\"dataframe\">\n",
              "  <thead>\n",
              "    <tr style=\"text-align: right;\">\n",
              "      <th></th>\n",
              "      <th>International plan</th>\n",
              "      <th>Voice mail plan</th>\n",
              "      <th>Number vmail messages</th>\n",
              "      <th>Total day minutes</th>\n",
              "      <th>Total day calls</th>\n",
              "      <th>Total day charge</th>\n",
              "      <th>Total eve minutes</th>\n",
              "      <th>Total eve calls</th>\n",
              "      <th>Total eve charge</th>\n",
              "      <th>Total night minutes</th>\n",
              "      <th>Total night calls</th>\n",
              "      <th>Total night charge</th>\n",
              "      <th>Total intl minutes</th>\n",
              "      <th>Total intl calls</th>\n",
              "      <th>Total intl charge</th>\n",
              "      <th>Customer service calls</th>\n",
              "      <th>Churn</th>\n",
              "    </tr>\n",
              "  </thead>\n",
              "  <tbody>\n",
              "    <tr>\n",
              "      <th>942</th>\n",
              "      <td>0</td>\n",
              "      <td>0</td>\n",
              "      <td>0</td>\n",
              "      <td>194.8</td>\n",
              "      <td>97</td>\n",
              "      <td>33.12</td>\n",
              "      <td>235.3</td>\n",
              "      <td>118</td>\n",
              "      <td>20.00</td>\n",
              "      <td>174.4</td>\n",
              "      <td>126</td>\n",
              "      <td>7.85</td>\n",
              "      <td>11.0</td>\n",
              "      <td>3</td>\n",
              "      <td>2.97</td>\n",
              "      <td>1</td>\n",
              "      <td>0</td>\n",
              "    </tr>\n",
              "    <tr>\n",
              "      <th>696</th>\n",
              "      <td>0</td>\n",
              "      <td>0</td>\n",
              "      <td>0</td>\n",
              "      <td>124.1</td>\n",
              "      <td>82</td>\n",
              "      <td>21.10</td>\n",
              "      <td>202.6</td>\n",
              "      <td>120</td>\n",
              "      <td>17.22</td>\n",
              "      <td>289.6</td>\n",
              "      <td>119</td>\n",
              "      <td>13.03</td>\n",
              "      <td>6.7</td>\n",
              "      <td>8</td>\n",
              "      <td>1.81</td>\n",
              "      <td>3</td>\n",
              "      <td>0</td>\n",
              "    </tr>\n",
              "    <tr>\n",
              "      <th>1068</th>\n",
              "      <td>0</td>\n",
              "      <td>0</td>\n",
              "      <td>0</td>\n",
              "      <td>136.1</td>\n",
              "      <td>120</td>\n",
              "      <td>23.14</td>\n",
              "      <td>204.2</td>\n",
              "      <td>103</td>\n",
              "      <td>17.36</td>\n",
              "      <td>228.2</td>\n",
              "      <td>90</td>\n",
              "      <td>10.27</td>\n",
              "      <td>11.3</td>\n",
              "      <td>4</td>\n",
              "      <td>3.05</td>\n",
              "      <td>1</td>\n",
              "      <td>0</td>\n",
              "    </tr>\n",
              "    <tr>\n",
              "      <th>189</th>\n",
              "      <td>1</td>\n",
              "      <td>0</td>\n",
              "      <td>0</td>\n",
              "      <td>312.0</td>\n",
              "      <td>109</td>\n",
              "      <td>53.04</td>\n",
              "      <td>129.4</td>\n",
              "      <td>100</td>\n",
              "      <td>11.00</td>\n",
              "      <td>217.6</td>\n",
              "      <td>74</td>\n",
              "      <td>9.79</td>\n",
              "      <td>10.5</td>\n",
              "      <td>2</td>\n",
              "      <td>2.84</td>\n",
              "      <td>0</td>\n",
              "      <td>1</td>\n",
              "    </tr>\n",
              "    <tr>\n",
              "      <th>426</th>\n",
              "      <td>0</td>\n",
              "      <td>1</td>\n",
              "      <td>37</td>\n",
              "      <td>163.5</td>\n",
              "      <td>77</td>\n",
              "      <td>27.80</td>\n",
              "      <td>203.1</td>\n",
              "      <td>102</td>\n",
              "      <td>17.26</td>\n",
              "      <td>232.0</td>\n",
              "      <td>87</td>\n",
              "      <td>10.44</td>\n",
              "      <td>7.8</td>\n",
              "      <td>4</td>\n",
              "      <td>2.11</td>\n",
              "      <td>2</td>\n",
              "      <td>0</td>\n",
              "    </tr>\n",
              "    <tr>\n",
              "      <th>...</th>\n",
              "      <td>...</td>\n",
              "      <td>...</td>\n",
              "      <td>...</td>\n",
              "      <td>...</td>\n",
              "      <td>...</td>\n",
              "      <td>...</td>\n",
              "      <td>...</td>\n",
              "      <td>...</td>\n",
              "      <td>...</td>\n",
              "      <td>...</td>\n",
              "      <td>...</td>\n",
              "      <td>...</td>\n",
              "      <td>...</td>\n",
              "      <td>...</td>\n",
              "      <td>...</td>\n",
              "      <td>...</td>\n",
              "      <td>...</td>\n",
              "    </tr>\n",
              "    <tr>\n",
              "      <th>480</th>\n",
              "      <td>0</td>\n",
              "      <td>1</td>\n",
              "      <td>46</td>\n",
              "      <td>214.1</td>\n",
              "      <td>62</td>\n",
              "      <td>36.40</td>\n",
              "      <td>200.9</td>\n",
              "      <td>111</td>\n",
              "      <td>17.08</td>\n",
              "      <td>246.8</td>\n",
              "      <td>126</td>\n",
              "      <td>11.11</td>\n",
              "      <td>9.2</td>\n",
              "      <td>6</td>\n",
              "      <td>2.48</td>\n",
              "      <td>0</td>\n",
              "      <td>0</td>\n",
              "    </tr>\n",
              "    <tr>\n",
              "      <th>2135</th>\n",
              "      <td>0</td>\n",
              "      <td>0</td>\n",
              "      <td>0</td>\n",
              "      <td>219.2</td>\n",
              "      <td>73</td>\n",
              "      <td>37.26</td>\n",
              "      <td>167.0</td>\n",
              "      <td>65</td>\n",
              "      <td>14.20</td>\n",
              "      <td>161.4</td>\n",
              "      <td>119</td>\n",
              "      <td>7.26</td>\n",
              "      <td>10.0</td>\n",
              "      <td>5</td>\n",
              "      <td>2.70</td>\n",
              "      <td>1</td>\n",
              "      <td>0</td>\n",
              "    </tr>\n",
              "    <tr>\n",
              "      <th>307</th>\n",
              "      <td>1</td>\n",
              "      <td>0</td>\n",
              "      <td>0</td>\n",
              "      <td>165.5</td>\n",
              "      <td>84</td>\n",
              "      <td>28.14</td>\n",
              "      <td>286.2</td>\n",
              "      <td>112</td>\n",
              "      <td>24.33</td>\n",
              "      <td>198.9</td>\n",
              "      <td>89</td>\n",
              "      <td>8.95</td>\n",
              "      <td>11.5</td>\n",
              "      <td>2</td>\n",
              "      <td>3.11</td>\n",
              "      <td>1</td>\n",
              "      <td>1</td>\n",
              "    </tr>\n",
              "    <tr>\n",
              "      <th>41</th>\n",
              "      <td>0</td>\n",
              "      <td>1</td>\n",
              "      <td>24</td>\n",
              "      <td>133.2</td>\n",
              "      <td>135</td>\n",
              "      <td>22.64</td>\n",
              "      <td>217.2</td>\n",
              "      <td>58</td>\n",
              "      <td>18.46</td>\n",
              "      <td>70.6</td>\n",
              "      <td>79</td>\n",
              "      <td>3.18</td>\n",
              "      <td>11.0</td>\n",
              "      <td>3</td>\n",
              "      <td>2.97</td>\n",
              "      <td>1</td>\n",
              "      <td>0</td>\n",
              "    </tr>\n",
              "    <tr>\n",
              "      <th>234</th>\n",
              "      <td>0</td>\n",
              "      <td>0</td>\n",
              "      <td>0</td>\n",
              "      <td>177.1</td>\n",
              "      <td>112</td>\n",
              "      <td>30.11</td>\n",
              "      <td>194.0</td>\n",
              "      <td>112</td>\n",
              "      <td>16.49</td>\n",
              "      <td>146.7</td>\n",
              "      <td>108</td>\n",
              "      <td>6.60</td>\n",
              "      <td>5.9</td>\n",
              "      <td>4</td>\n",
              "      <td>1.59</td>\n",
              "      <td>1</td>\n",
              "      <td>0</td>\n",
              "    </tr>\n",
              "  </tbody>\n",
              "</table>\n",
              "<p>631 rows × 17 columns</p>\n",
              "</div>"
            ],
            "text/plain": [
              "      International plan  Voice mail plan  ...  Customer service calls  Churn\n",
              "942                    0                0  ...                       1      0\n",
              "696                    0                0  ...                       3      0\n",
              "1068                   0                0  ...                       1      0\n",
              "189                    1                0  ...                       0      1\n",
              "426                    0                1  ...                       2      0\n",
              "...                  ...              ...  ...                     ...    ...\n",
              "480                    0                1  ...                       0      0\n",
              "2135                   0                0  ...                       1      0\n",
              "307                    1                0  ...                       1      1\n",
              "41                     0                1  ...                       1      0\n",
              "234                    0                0  ...                       1      0\n",
              "\n",
              "[631 rows x 17 columns]"
            ]
          },
          "metadata": {},
          "execution_count": 26
        }
      ]
    },
    {
      "cell_type": "code",
      "metadata": {
        "id": "9ztdyLAy2Kpg"
      },
      "source": [
        "xtrain.to_csv('xtrain.csv')\n",
        "ytrain.to_csv('ytrain.csv')\n",
        "xvalid.to_csv('xvalid.csv')\n",
        "yvalid.to_csv('yvalid.csv')\n",
        "full_train.to_csv('full_train.csv')\n",
        "full_valid.to_csv('full_valid.csv')"
      ],
      "execution_count": 27,
      "outputs": []
    },
    {
      "cell_type": "code",
      "metadata": {
        "id": "iRMXAOnQDnmT"
      },
      "source": [
        "ytrain_ls, yvalid_ls = ytrain.tolist(), yvalid.tolist() "
      ],
      "execution_count": 28,
      "outputs": []
    },
    {
      "cell_type": "code",
      "metadata": {
        "colab": {
          "base_uri": "https://localhost:8080/"
        },
        "id": "m2oQo3DiEHRW",
        "outputId": "0dd819a3-461c-426e-c68b-5cca77f02546"
      },
      "source": [
        "ytrain_ls = set(ytrain_ls)\n",
        "ytrain_ls"
      ],
      "execution_count": 29,
      "outputs": [
        {
          "output_type": "execute_result",
          "data": {
            "text/plain": [
              "{0, 1}"
            ]
          },
          "metadata": {},
          "execution_count": 29
        }
      ]
    },
    {
      "cell_type": "code",
      "metadata": {
        "colab": {
          "base_uri": "https://localhost:8080/"
        },
        "id": "C63wLV4YEPa8",
        "outputId": "aaabfeda-4de8-4826-a694-02f00a4d6094"
      },
      "source": [
        "yvalid_ls = set(yvalid_ls)\n",
        "yvalid_ls"
      ],
      "execution_count": 30,
      "outputs": [
        {
          "output_type": "execute_result",
          "data": {
            "text/plain": [
              "{0, 1}"
            ]
          },
          "metadata": {},
          "execution_count": 30
        }
      ]
    },
    {
      "cell_type": "code",
      "metadata": {
        "id": "Vcz54-Qw8m18",
        "colab": {
          "base_uri": "https://localhost:8080/",
          "height": 1000
        },
        "outputId": "3c0930cf-2807-43e4-e4fc-ba991dbe2ccf"
      },
      "source": [
        "clf = xgb.XGBClassifier(max_depth=7, n_estimators=200, colsample_bytree=0.8, \n",
        "                        subsample=0.8, nthread=10, learning_rate=0.1)\n",
        "clf.fit(data, y)\n",
        "# plot the important features #\n",
        "fig, ax = plt.subplots(figsize=(12,18))\n",
        "xgb.plot_importance(clf, max_num_features=50, height=0.8, ax=ax)\n",
        "plt.show()"
      ],
      "execution_count": 31,
      "outputs": [
        {
          "output_type": "display_data",
          "data": {
            "image/png": "[encoded data removed]",
            "text/plain": [
              "<Figure size 864x1296 with 1 Axes>"
            ]
          },
          "metadata": {
            "needs_background": "light"
          }
        }
      ]
    },
    {
      "cell_type": "code",
      "metadata": {
        "id": "aOm-xQd0-POF",
        "colab": {
          "base_uri": "https://localhost:8080/"
        },
        "outputId": "604f1904-200c-40a1-9514-8036a1f0e06c"
      },
      "source": [
        "clf = LogisticRegression(C=1.0)\n",
        "clf.fit(xtrain, ytrain)\n",
        "predictions = clf.predict(xvalid)\n",
        "print(\"accuracy_score\",accuracy_score(yvalid, predictions))\n",
        "print(\"auc\",roc_auc_score(yvalid, predictions))\n",
        "lr = [clf.__class__,accuracy_score(yvalid, predictions),roc_auc_score(yvalid, predictions)]"
      ],
      "execution_count": 32,
      "outputs": [
        {
          "output_type": "stream",
          "name": "stdout",
          "text": [
            "accuracy_score 0.8589540412044374\n",
            "auc 0.5328682781209835\n"
          ]
        },
        {
          "output_type": "stream",
          "name": "stderr",
          "text": [
            "/usr/local/lib/python3.7/dist-packages/sklearn/linear_model/_logistic.py:940: ConvergenceWarning:\n",
            "\n",
            "lbfgs failed to converge (status=1):\n",
            "STOP: TOTAL NO. of ITERATIONS REACHED LIMIT.\n",
            "\n",
            "Increase the number of iterations (max_iter) or scale the data as shown in:\n",
            "    https://scikit-learn.org/stable/modules/preprocessing.html\n",
            "Please also refer to the documentation for alternative solver options:\n",
            "    https://scikit-learn.org/stable/modules/linear_model.html#logistic-regression\n",
            "\n"
          ]
        }
      ]
    },
    {
      "cell_type": "code",
      "metadata": {
        "id": "WA-GeCQdDa1H",
        "colab": {
          "base_uri": "https://localhost:8080/"
        },
        "outputId": "e5a1d645-a4ec-464b-f8f9-1b3e4a83c719"
      },
      "source": [
        "clf = DecisionTreeClassifier()\n",
        "clf.fit(xtrain, ytrain)\n",
        "predictions = clf.predict(xvalid)\n",
        "print(\"accuracy_score\",accuracy_score(yvalid, predictions))\n",
        "print(\"auc\",roc_auc_score(yvalid, predictions))\n",
        "dtc = [clf.__class__,accuracy_score(yvalid, predictions),roc_auc_score(yvalid, predictions)]"
      ],
      "execution_count": 33,
      "outputs": [
        {
          "output_type": "stream",
          "name": "stdout",
          "text": [
            "accuracy_score 0.9318541996830428\n",
            "auc 0.8523363323520876\n"
          ]
        }
      ]
    },
    {
      "cell_type": "markdown",
      "metadata": {
        "id": "EHWFbTmp5-vh"
      },
      "source": [
        "## Feature Eng 🕹"
      ]
    },
    {
      "cell_type": "code",
      "metadata": {
        "colab": {
          "base_uri": "https://localhost:8080/",
          "height": 178
        },
        "id": "AJQKpctXRKqK",
        "outputId": "09607516-8581-4c78-8368-54fdf70f63d7"
      },
      "source": [
        "data = pd.read_csv('/content/drive/MyDrive/AI Assignment/dataset.csv')\n",
        "data.groupby('Churn').count()"
      ],
      "execution_count": 34,
      "outputs": [
        {
          "output_type": "execute_result",
          "data": {
            "text/html": [
              "<div>\n",
              "<style scoped>\n",
              "    .dataframe tbody tr th:only-of-type {\n",
              "        vertical-align: middle;\n",
              "    }\n",
              "\n",
              "    .dataframe tbody tr th {\n",
              "        vertical-align: top;\n",
              "    }\n",
              "\n",
              "    .dataframe thead th {\n",
              "        text-align: right;\n",
              "    }\n",
              "</style>\n",
              "<table border=\"1\" class=\"dataframe\">\n",
              "  <thead>\n",
              "    <tr style=\"text-align: right;\">\n",
              "      <th></th>\n",
              "      <th>State</th>\n",
              "      <th>Account length</th>\n",
              "      <th>Area code</th>\n",
              "      <th>International plan</th>\n",
              "      <th>Voice mail plan</th>\n",
              "      <th>Number vmail messages</th>\n",
              "      <th>Total day minutes</th>\n",
              "      <th>Total day calls</th>\n",
              "      <th>Total day charge</th>\n",
              "      <th>Total eve minutes</th>\n",
              "      <th>Total eve calls</th>\n",
              "      <th>Total eve charge</th>\n",
              "      <th>Total night minutes</th>\n",
              "      <th>Total night calls</th>\n",
              "      <th>Total night charge</th>\n",
              "      <th>Total intl minutes</th>\n",
              "      <th>Total intl calls</th>\n",
              "      <th>Total intl charge</th>\n",
              "      <th>Customer service calls</th>\n",
              "    </tr>\n",
              "    <tr>\n",
              "      <th>Churn</th>\n",
              "      <th></th>\n",
              "      <th></th>\n",
              "      <th></th>\n",
              "      <th></th>\n",
              "      <th></th>\n",
              "      <th></th>\n",
              "      <th></th>\n",
              "      <th></th>\n",
              "      <th></th>\n",
              "      <th></th>\n",
              "      <th></th>\n",
              "      <th></th>\n",
              "      <th></th>\n",
              "      <th></th>\n",
              "      <th></th>\n",
              "      <th></th>\n",
              "      <th></th>\n",
              "      <th></th>\n",
              "      <th></th>\n",
              "    </tr>\n",
              "  </thead>\n",
              "  <tbody>\n",
              "    <tr>\n",
              "      <th>False</th>\n",
              "      <td>2859</td>\n",
              "      <td>2859</td>\n",
              "      <td>2859</td>\n",
              "      <td>2859</td>\n",
              "      <td>2859</td>\n",
              "      <td>2859</td>\n",
              "      <td>2859</td>\n",
              "      <td>2859</td>\n",
              "      <td>2859</td>\n",
              "      <td>2859</td>\n",
              "      <td>2859</td>\n",
              "      <td>2859</td>\n",
              "      <td>2859</td>\n",
              "      <td>2859</td>\n",
              "      <td>2859</td>\n",
              "      <td>2859</td>\n",
              "      <td>2859</td>\n",
              "      <td>2859</td>\n",
              "      <td>2859</td>\n",
              "    </tr>\n",
              "    <tr>\n",
              "      <th>True</th>\n",
              "      <td>483</td>\n",
              "      <td>483</td>\n",
              "      <td>483</td>\n",
              "      <td>483</td>\n",
              "      <td>483</td>\n",
              "      <td>483</td>\n",
              "      <td>483</td>\n",
              "      <td>483</td>\n",
              "      <td>483</td>\n",
              "      <td>483</td>\n",
              "      <td>483</td>\n",
              "      <td>483</td>\n",
              "      <td>483</td>\n",
              "      <td>483</td>\n",
              "      <td>483</td>\n",
              "      <td>483</td>\n",
              "      <td>483</td>\n",
              "      <td>483</td>\n",
              "      <td>483</td>\n",
              "    </tr>\n",
              "  </tbody>\n",
              "</table>\n",
              "</div>"
            ],
            "text/plain": [
              "       State  Account length  ...  Total intl charge  Customer service calls\n",
              "Churn                         ...                                           \n",
              "False   2859            2859  ...               2859                    2859\n",
              "True     483             483  ...                483                     483\n",
              "\n",
              "[2 rows x 19 columns]"
            ]
          },
          "metadata": {},
          "execution_count": 34
        }
      ]
    },
    {
      "cell_type": "code",
      "metadata": {
        "id": "HLVZlj1lRNtM"
      },
      "source": [
        "#Encode Bool and cat\n",
        "cate = [key for key in dict(data.dtypes) if dict(data.dtypes)[key] in ['bool', 'object']]\n",
        "le = preprocessing.LabelEncoder()\n",
        "for i in cate:\n",
        "    le.fit(data[i])\n",
        "    data[i] = le.transform(data[i])"
      ],
      "execution_count": 35,
      "outputs": []
    },
    {
      "cell_type": "code",
      "metadata": {
        "id": "-6BMdyL9RQQy"
      },
      "source": [
        "data = data.drop('Account length', 1)\n",
        "data = data.drop('Area code', 1)\n",
        "data = data.drop('State', 1) #Just for test reasons"
      ],
      "execution_count": 36,
      "outputs": []
    },
    {
      "cell_type": "code",
      "metadata": {
        "id": "uToVo-a3fDus"
      },
      "source": [
        "cols_minutes = ['Total day minutes','Total night minutes','Total eve minutes']\n",
        "data['Total Minutes'] = data[cols_minutes].sum(axis=1)"
      ],
      "execution_count": 37,
      "outputs": []
    },
    {
      "cell_type": "code",
      "metadata": {
        "id": "PprPwAzk9L31"
      },
      "source": [
        "cols_calls = ['Total day calls','Total night calls','Total eve calls']\n",
        "data['Total Calls'] = data[cols_calls].sum(axis=1)"
      ],
      "execution_count": 38,
      "outputs": []
    },
    {
      "cell_type": "code",
      "metadata": {
        "id": "jFiFwMpM9Lde"
      },
      "source": [
        "cols_charge = ['Total day charge','Total night charge','Total eve charge']\n",
        "data['Total Charge'] = data[cols_charge].sum(axis=1)"
      ],
      "execution_count": 39,
      "outputs": []
    },
    {
      "cell_type": "code",
      "metadata": {
        "id": "Bq0Hu5AL9EiT"
      },
      "source": [
        "for col in cols_calls, cols_minutes, cols_charge:\n",
        "  data = data.drop(col, 1)"
      ],
      "execution_count": 40,
      "outputs": []
    },
    {
      "cell_type": "code",
      "metadata": {
        "id": "JTVs1gsU_k-Z"
      },
      "source": [
        "cols = ['Number vmail messages', 'Total intl minutes','Total Minutes', 'Total Calls'] \n",
        "\n",
        "Q1 = data[cols].quantile(0.25)\n",
        "Q3 = data[cols].quantile(0.75)\n",
        "IQR = Q3 - Q1\n",
        "\n",
        "data = data[~((data[cols] < (Q1 - 1.5 * IQR)) |(data[cols] > (Q3 + 1.5 * IQR))).any(axis=1)]"
      ],
      "execution_count": 41,
      "outputs": []
    },
    {
      "cell_type": "code",
      "metadata": {
        "id": "XhkAt5k18N1X"
      },
      "source": [
        "# Normalization\n",
        "scaler = MinMaxScaler()\n",
        "data_scaled = scaler.fit_transform(data)"
      ],
      "execution_count": 42,
      "outputs": []
    },
    {
      "cell_type": "code",
      "metadata": {
        "id": "0URN87PpZZda"
      },
      "source": [
        "data.to_csv('x.csv')"
      ],
      "execution_count": 43,
      "outputs": []
    },
    {
      "cell_type": "code",
      "metadata": {
        "id": "JPVIXnsrFMEu"
      },
      "source": [
        "y = data['Churn']\n",
        "data = data.drop(['Churn'],axis=1)\n",
        "xtrain, xvalid, ytrain, yvalid = train_test_split(data, y, \n",
        "                                                  stratify=y, \n",
        "                                                  random_state=42, \n",
        "                                                  test_size=0.2, shuffle=True)"
      ],
      "execution_count": 44,
      "outputs": []
    },
    {
      "cell_type": "code",
      "metadata": {
        "colab": {
          "base_uri": "https://localhost:8080/"
        },
        "id": "LVsZbIXk8RSM",
        "outputId": "cc9956ce-1de0-427e-9b90-255c37d99b89"
      },
      "source": [
        "clf = DecisionTreeClassifier()\n",
        "clf.fit(xtrain, ytrain)\n",
        "predictions = clf.predict(xvalid)\n",
        "print(\"accuracy_score\",accuracy_score(yvalid, predictions))\n",
        "print(\"auc\",roc_auc_score(yvalid, predictions))\n",
        "dtc = [clf.__class__,accuracy_score(yvalid, predictions),roc_auc_score(yvalid, predictions)]"
      ],
      "execution_count": 45,
      "outputs": [
        {
          "output_type": "stream",
          "name": "stdout",
          "text": [
            "accuracy_score 0.9508448540706606\n",
            "auc 0.9130824372759857\n"
          ]
        }
      ]
    },
    {
      "cell_type": "code",
      "metadata": {
        "colab": {
          "base_uri": "https://localhost:8080/"
        },
        "id": "SrQMucjjP2ap",
        "outputId": "7c10778b-705f-4be0-96d2-84b50ee13604"
      },
      "source": [
        "clf = xgb.XGBClassifier(max_depth=7, n_estimators=200, colsample_bytree=0.8, \n",
        "                        subsample=0.8, nthread=10, learning_rate=0.1)\n",
        "clf.fit(xtrain, ytrain)\n",
        "predictions = clf.predict(xvalid)\n",
        "print(\"accuracy_score\",accuracy_score(yvalid, predictions))\n",
        "print(\"auc\",roc_auc_score(yvalid, predictions))\n",
        "xg = [clf.__class__,accuracy_score(yvalid, predictions),roc_auc_score(yvalid, predictions)]"
      ],
      "execution_count": 46,
      "outputs": [
        {
          "output_type": "stream",
          "name": "stdout",
          "text": [
            "accuracy_score 0.9708141321044547\n",
            "auc 0.9157706093189966\n"
          ]
        }
      ]
    },
    {
      "cell_type": "code",
      "metadata": {
        "colab": {
          "base_uri": "https://localhost:8080/"
        },
        "id": "dP3MmVt-QAyG",
        "outputId": "ae50de54-bbd0-4005-8bb4-1ec16315f2f0"
      },
      "source": [
        "clf = GradientBoostingClassifier()\n",
        "clf.fit(xtrain, ytrain)\n",
        "predictions = clf.predict(xvalid)\n",
        "print(\"accuracy_score\",accuracy_score(yvalid, predictions))\n",
        "print(\"auc\",roc_auc_score(yvalid, predictions))\n",
        "gbc = [clf.__class__,accuracy_score(yvalid, predictions),roc_auc_score(yvalid, predictions)]"
      ],
      "execution_count": 47,
      "outputs": [
        {
          "output_type": "stream",
          "name": "stdout",
          "text": [
            "accuracy_score 0.9769585253456221\n",
            "auc 0.92831541218638\n"
          ]
        }
      ]
    },
    {
      "cell_type": "code",
      "metadata": {
        "id": "r9D48Bj1YZv5"
      },
      "source": [
        "full_train = pd.concat([xtrain, ytrain], axis=1)\n",
        "full_valid = pd.concat([xvalid, yvalid], axis=1)"
      ],
      "execution_count": 49,
      "outputs": []
    },
    {
      "cell_type": "code",
      "metadata": {
        "id": "5VhuluHURy-Y"
      },
      "source": [
        "xtrain.to_csv('xtrain_compacted.csv')\n",
        "ytrain.to_csv('ytrain_compacted.csv')\n",
        "xvalid.to_csv('xvalid_compacted.csv')\n",
        "yvalid.to_csv('yvalid_compacted.csv')\n",
        "full_train.to_csv('full_train_compacted.csv')\n",
        "full_valid.to_csv('full_valid_compacted.csv')"
      ],
      "execution_count": 50,
      "outputs": []
    }
  ]
}